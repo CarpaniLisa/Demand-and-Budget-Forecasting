{
 "cells": [
  {
   "cell_type": "code",
   "execution_count": 1,
   "metadata": {},
   "outputs": [],
   "source": [
    "#Importing necessary libraries like pandas and numpy\n",
    "import pandas as pd\n",
    "import numpy as np\n",
    "import matplotlib.pyplot as plt"
   ]
  },
  {
   "cell_type": "code",
   "execution_count": 2,
   "metadata": {},
   "outputs": [
    {
     "name": "stdout",
     "output_type": "stream",
     "text": [
      "Shape of data (165, 7)\n"
     ]
    },
    {
     "data": {
      "text/html": [
       "<div>\n",
       "<style scoped>\n",
       "    .dataframe tbody tr th:only-of-type {\n",
       "        vertical-align: middle;\n",
       "    }\n",
       "\n",
       "    .dataframe tbody tr th {\n",
       "        vertical-align: top;\n",
       "    }\n",
       "\n",
       "    .dataframe thead th {\n",
       "        text-align: right;\n",
       "    }\n",
       "</style>\n",
       "<table border=\"1\" class=\"dataframe\">\n",
       "  <thead>\n",
       "    <tr style=\"text-align: right;\">\n",
       "      <th></th>\n",
       "      <th>business_unit</th>\n",
       "      <th>product</th>\n",
       "      <th>country</th>\n",
       "      <th>month</th>\n",
       "      <th>year</th>\n",
       "      <th>qty</th>\n",
       "      <th>amt</th>\n",
       "    </tr>\n",
       "    <tr>\n",
       "      <th>date</th>\n",
       "      <th></th>\n",
       "      <th></th>\n",
       "      <th></th>\n",
       "      <th></th>\n",
       "      <th></th>\n",
       "      <th></th>\n",
       "      <th></th>\n",
       "    </tr>\n",
       "  </thead>\n",
       "  <tbody>\n",
       "    <tr>\n",
       "      <th>2022-05-29</th>\n",
       "      <td>Automotive</td>\n",
       "      <td>Base Metals</td>\n",
       "      <td>United States</td>\n",
       "      <td>May</td>\n",
       "      <td>2022</td>\n",
       "      <td>462</td>\n",
       "      <td>5028908</td>\n",
       "    </tr>\n",
       "    <tr>\n",
       "      <th>2022-06-05</th>\n",
       "      <td>Automotive</td>\n",
       "      <td>Base Metals</td>\n",
       "      <td>United States</td>\n",
       "      <td>June</td>\n",
       "      <td>2022</td>\n",
       "      <td>477</td>\n",
       "      <td>6018685</td>\n",
       "    </tr>\n",
       "    <tr>\n",
       "      <th>2022-06-12</th>\n",
       "      <td>Automotive</td>\n",
       "      <td>Base Metals</td>\n",
       "      <td>United States</td>\n",
       "      <td>June</td>\n",
       "      <td>2022</td>\n",
       "      <td>480</td>\n",
       "      <td>5822638</td>\n",
       "    </tr>\n",
       "    <tr>\n",
       "      <th>2022-06-19</th>\n",
       "      <td>Automotive</td>\n",
       "      <td>Base Metals</td>\n",
       "      <td>United States</td>\n",
       "      <td>June</td>\n",
       "      <td>2022</td>\n",
       "      <td>477</td>\n",
       "      <td>5499921</td>\n",
       "    </tr>\n",
       "    <tr>\n",
       "      <th>2022-06-26</th>\n",
       "      <td>Automotive</td>\n",
       "      <td>Base Metals</td>\n",
       "      <td>United States</td>\n",
       "      <td>June</td>\n",
       "      <td>2022</td>\n",
       "      <td>474</td>\n",
       "      <td>5629392</td>\n",
       "    </tr>\n",
       "  </tbody>\n",
       "</table>\n",
       "</div>"
      ],
      "text/plain": [
       "           business_unit      product        country month  year  qty      amt\n",
       "date                                                                          \n",
       "2022-05-29    Automotive  Base Metals  United States   May  2022  462  5028908\n",
       "2022-06-05    Automotive  Base Metals  United States  June  2022  477  6018685\n",
       "2022-06-12    Automotive  Base Metals  United States  June  2022  480  5822638\n",
       "2022-06-19    Automotive  Base Metals  United States  June  2022  477  5499921\n",
       "2022-06-26    Automotive  Base Metals  United States  June  2022  474  5629392"
      ]
     },
     "execution_count": 2,
     "metadata": {},
     "output_type": "execute_result"
    }
   ],
   "source": [
    "#Loading the excel data into the dataframe. Date column is marked as index and it is also parsed that way Python recognizes that column as date variable\n",
    "#Printing the data to look at the shape\n",
    "df = pd.read_excel(r'H:\\Demand Forecasting\\Data\\Spend\\Data v4\\Data_BM.xlsx',index_col='date',parse_dates=True)\n",
    "print('Shape of data',df.shape)\n",
    "df.tail()"
   ]
  },
  {
   "cell_type": "code",
   "execution_count": 3,
   "metadata": {},
   "outputs": [
    {
     "data": {
      "text/html": [
       "<div>\n",
       "<style scoped>\n",
       "    .dataframe tbody tr th:only-of-type {\n",
       "        vertical-align: middle;\n",
       "    }\n",
       "\n",
       "    .dataframe tbody tr th {\n",
       "        vertical-align: top;\n",
       "    }\n",
       "\n",
       "    .dataframe thead th {\n",
       "        text-align: right;\n",
       "    }\n",
       "</style>\n",
       "<table border=\"1\" class=\"dataframe\">\n",
       "  <thead>\n",
       "    <tr style=\"text-align: right;\">\n",
       "      <th></th>\n",
       "      <th>amt</th>\n",
       "    </tr>\n",
       "    <tr>\n",
       "      <th>date</th>\n",
       "      <th></th>\n",
       "    </tr>\n",
       "  </thead>\n",
       "  <tbody>\n",
       "    <tr>\n",
       "      <th>2019-05-05</th>\n",
       "      <td>5003053</td>\n",
       "    </tr>\n",
       "    <tr>\n",
       "      <th>2019-05-12</th>\n",
       "      <td>4665940</td>\n",
       "    </tr>\n",
       "    <tr>\n",
       "      <th>2019-05-19</th>\n",
       "      <td>5545590</td>\n",
       "    </tr>\n",
       "    <tr>\n",
       "      <th>2019-05-26</th>\n",
       "      <td>5692459</td>\n",
       "    </tr>\n",
       "    <tr>\n",
       "      <th>2019-06-02</th>\n",
       "      <td>5125903</td>\n",
       "    </tr>\n",
       "  </tbody>\n",
       "</table>\n",
       "</div>"
      ],
      "text/plain": [
       "                amt\n",
       "date               \n",
       "2019-05-05  5003053\n",
       "2019-05-12  4665940\n",
       "2019-05-19  5545590\n",
       "2019-05-26  5692459\n",
       "2019-06-02  5125903"
      ]
     },
     "execution_count": 3,
     "metadata": {},
     "output_type": "execute_result"
    }
   ],
   "source": [
    "#Removing all unnecessary columns and keeping only date and amt columns for further analysis\n",
    "df.drop([\"business_unit\",\"country\",\"qty\",\"month\",\"year\",\"product\"], axis=1, inplace=True)\n",
    "df.head()"
   ]
  },
  {
   "cell_type": "code",
   "execution_count": 4,
   "metadata": {},
   "outputs": [
    {
     "data": {
      "text/plain": [
       "<matplotlib.axes._subplots.AxesSubplot at 0x20ffe23b4f0>"
      ]
     },
     "execution_count": 4,
     "metadata": {},
     "output_type": "execute_result"
    },
    {
     "data": {
      "image/png": "[encoded data removed]",
      "text/plain": [
       "<Figure size 864x432 with 1 Axes>"
      ]
     },
     "metadata": {
      "needs_background": "light"
     },
     "output_type": "display_data"
    }
   ],
   "source": [
    "#Plotting the data into a line chart to help us better visualize it\n",
    "df.plot(figsize=(12,6))"
   ]
  },
  {
   "cell_type": "code",
   "execution_count": 5,
   "metadata": {},
   "outputs": [],
   "source": [
    "#Import the seasonal decompose library to visualize the data better\n",
    "from statsmodels.tsa.seasonal import seasonal_decompose"
   ]
  },
  {
   "cell_type": "code",
   "execution_count": 6,
   "metadata": {},
   "outputs": [
    {
     "data": {
      "image/png": "[encoded data removed]",
      "text/plain": [
       "<Figure size 432x288 with 4 Axes>"
      ]
     },
     "metadata": {
      "needs_background": "light"
     },
     "output_type": "display_data"
    }
   ],
   "source": [
    "#The seasonal decompose of the data shows how the data looks like originally, how it looks with just the trend, with just seasonality and just the noise\n",
    "results = seasonal_decompose(df['amt'])\n",
    "results.plot();"
   ]
  },
  {
   "cell_type": "code",
   "execution_count": 7,
   "metadata": {},
   "outputs": [
    {
     "data": {
      "text/plain": [
       "165"
      ]
     },
     "execution_count": 7,
     "metadata": {},
     "output_type": "execute_result"
    }
   ],
   "source": [
    "len(df)"
   ]
  },
  {
   "cell_type": "code",
   "execution_count": 8,
   "metadata": {},
   "outputs": [
    {
     "name": "stdout",
     "output_type": "stream",
     "text": [
      "(165, 1)\n",
      "(161, 1) (4, 1)\n"
     ]
    }
   ],
   "source": [
    "#Splitting the training and test dataset\n",
    "print(df.shape)\n",
    "train=df.iloc[:-4]\n",
    "test=df.iloc[-4:]\n",
    "print(train.shape,test.shape)"
   ]
  },
  {
   "cell_type": "code",
   "execution_count": 9,
   "metadata": {},
   "outputs": [],
   "source": [
    "#Importing the MinMaxScaler library\n",
    "from sklearn.preprocessing import MinMaxScaler\n",
    "scaler = MinMaxScaler()"
   ]
  },
  {
   "cell_type": "code",
   "execution_count": 10,
   "metadata": {},
   "outputs": [
    {
     "data": {
      "text/plain": [
       "(                amt\n",
       " date               \n",
       " 2019-05-05  5003053\n",
       " 2019-05-12  4665940\n",
       " 2019-05-19  5545590\n",
       " 2019-05-26  5692459\n",
       " 2019-06-02  5125903,\n",
       "                 amt\n",
       " date               \n",
       " 2022-05-29  5028908\n",
       " 2022-06-05  6018685\n",
       " 2022-06-12  5822638\n",
       " 2022-06-19  5499921\n",
       " 2022-06-26  5629392)"
      ]
     },
     "execution_count": 10,
     "metadata": {},
     "output_type": "execute_result"
    }
   ],
   "source": [
    "df.head(),df.tail()"
   ]
  },
  {
   "cell_type": "code",
   "execution_count": 11,
   "metadata": {},
   "outputs": [],
   "source": [
    "#MinMaxScaler compresses the data between 0 and 1\n",
    "scaler.fit(train)\n",
    "scaled_train = scaler.transform(train)\n",
    "scaled_test = scaler.transform(test)"
   ]
  },
  {
   "cell_type": "code",
   "execution_count": 12,
   "metadata": {},
   "outputs": [
    {
     "data": {
      "text/plain": [
       "array([[0.30395858],\n",
       "       [0.13457702],\n",
       "       [0.5765549 ],\n",
       "       [0.65034885],\n",
       "       [0.36568425],\n",
       "       [0.29609227],\n",
       "       [0.73388827],\n",
       "       [0.75262102],\n",
       "       [0.5081914 ],\n",
       "       [0.21298646]])"
      ]
     },
     "execution_count": 12,
     "metadata": {},
     "output_type": "execute_result"
    }
   ],
   "source": [
    "#Checking the data after running the MixMaxScaler\n",
    "scaled_train[:10]"
   ]
  },
  {
   "cell_type": "code",
   "execution_count": 13,
   "metadata": {},
   "outputs": [],
   "source": [
    "#Importing TimeSeries Generator from Keras library\n",
    "from keras.preprocessing.sequence import TimeseriesGenerator"
   ]
  },
  {
   "cell_type": "code",
   "execution_count": 14,
   "metadata": {},
   "outputs": [],
   "source": [
    "#setting the input as 3 and features as 1 that way the model will learn first 3 values and predict the 4th value to test it\n",
    "n_input = 3\n",
    "n_features = 1\n",
    "generator = TimeseriesGenerator(scaled_train, scaled_train, length=n_input, batch_size=1)"
   ]
  },
  {
   "cell_type": "code",
   "execution_count": 15,
   "metadata": {},
   "outputs": [
    {
     "name": "stdout",
     "output_type": "stream",
     "text": [
      "Given the Array: \n",
      "[0.30395858 0.13457702 0.5765549 ]\n",
      "Predict this y: \n",
      " [[0.65034885]]\n"
     ]
    }
   ],
   "source": [
    "X,y = generator[0]\n",
    "print(f'Given the Array: \\n{X.flatten()}')\n",
    "print(f'Predict this y: \\n {y}')"
   ]
  },
  {
   "cell_type": "code",
   "execution_count": 16,
   "metadata": {},
   "outputs": [
    {
     "data": {
      "text/plain": [
       "(1, 3, 1)"
      ]
     },
     "execution_count": 16,
     "metadata": {},
     "output_type": "execute_result"
    }
   ],
   "source": [
    "X.shape"
   ]
  },
  {
   "cell_type": "code",
   "execution_count": 17,
   "metadata": {},
   "outputs": [],
   "source": [
    "#Changed the input to 12\n",
    "n_input = 12\n",
    "generator = TimeseriesGenerator(scaled_train, scaled_train, length=n_input, batch_size=1)"
   ]
  },
  {
   "cell_type": "code",
   "execution_count": 18,
   "metadata": {},
   "outputs": [],
   "source": [
    "#Importing necesssary libraries like Sequential, Dense and LSTM\n",
    "from keras.models import Sequential\n",
    "from keras.layers import Dense\n",
    "from keras.layers import LSTM"
   ]
  },
  {
   "cell_type": "code",
   "execution_count": 19,
   "metadata": {},
   "outputs": [],
   "source": [
    "#LSTM model is run with 100 neurons. Activation selected as 'relu'. Optimizer as 'adam' and loss as 'mse'\n",
    "model = Sequential()\n",
    "model.add(LSTM(100, activation='relu', input_shape=(n_input, n_features)))\n",
    "model.add(Dense(1))\n",
    "model.compile(optimizer='adam', loss='mse')"
   ]
  },
  {
   "cell_type": "code",
   "execution_count": 20,
   "metadata": {},
   "outputs": [
    {
     "name": "stdout",
     "output_type": "stream",
     "text": [
      "Model: \"sequential\"\n",
      "_________________________________________________________________\n",
      "Layer (type)                 Output Shape              Param #   \n",
      "=================================================================\n",
      "lstm (LSTM)                  (None, 100)               40800     \n",
      "_________________________________________________________________\n",
      "dense (Dense)                (None, 1)                 101       \n",
      "=================================================================\n",
      "Total params: 40,901\n",
      "Trainable params: 40,901\n",
      "Non-trainable params: 0\n",
      "_________________________________________________________________\n"
     ]
    }
   ],
   "source": [
    "model.summary()"
   ]
  },
  {
   "cell_type": "code",
   "execution_count": 21,
   "metadata": {},
   "outputs": [
    {
     "name": "stdout",
     "output_type": "stream",
     "text": [
      "Epoch 1/50\n",
      "149/149 [==============================] - 7s 15ms/step - loss: 0.0540\n",
      "Epoch 2/50\n",
      "149/149 [==============================] - 2s 15ms/step - loss: 0.0435\n",
      "Epoch 3/50\n",
      "149/149 [==============================] - 2s 14ms/step - loss: 0.0428\n",
      "Epoch 4/50\n",
      "149/149 [==============================] - 2s 14ms/step - loss: 0.0426: 0s - lo\n",
      "Epoch 5/50\n",
      "149/149 [==============================] - 2s 15ms/step - loss: 0.0430\n",
      "Epoch 6/50\n",
      "149/149 [==============================] - 2s 15ms/step - loss: 0.0457\n",
      "Epoch 7/50\n",
      "149/149 [==============================] - 2s 16ms/step - loss: 0.0414\n",
      "Epoch 8/50\n",
      "149/149 [==============================] - 2s 14ms/step - loss: 0.0428\n",
      "Epoch 9/50\n",
      "149/149 [==============================] - 2s 16ms/step - loss: 0.0415\n",
      "Epoch 10/50\n",
      "149/149 [==============================] - 2s 16ms/step - loss: 0.0426: 1s - loss: 0.05 - ETA: 1s  - ETA: 0s - loss: 0.04 - ETA: 0s - loss: 0.045 - ETA: 0s -\n",
      "Epoch 11/50\n",
      "149/149 [==============================] - 2s 15ms/step - loss: 0.0410\n",
      "Epoch 12/50\n",
      "149/149 [==============================] - 2s 15ms/step - loss: 0.0406\n",
      "Epoch 13/50\n",
      "149/149 [==============================] - 2s 15ms/step - loss: 0.0398\n",
      "Epoch 14/50\n",
      "149/149 [==============================] - 2s 14ms/step - loss: 0.0411\n",
      "Epoch 15/50\n",
      "149/149 [==============================] - 3s 17ms/step - loss: 0.0398: 1s  - ETA: 0s - \n",
      "Epoch 16/50\n",
      "149/149 [==============================] - 2s 15ms/step - loss: 0.0392\n",
      "Epoch 17/50\n",
      "149/149 [==============================] - 2s 15ms/step - loss: 0.0380: 0s - loss: 0.0 - ETA: 0s - \n",
      "Epoch 18/50\n",
      "149/149 [==============================] - 2s 16ms/step - loss: 0.0389: 1s - l - ETA: 0s - l\n",
      "Epoch 19/50\n",
      "149/149 [==============================] - 2s 16ms/step - loss: 0.0375\n",
      "Epoch 20/50\n",
      "149/149 [==============================] - 2s 15ms/step - loss: 0.0387: 1s - lo - ETA: 0s - loss: 0.0 - ETA: 0s - loss:\n",
      "Epoch 21/50\n",
      "149/149 [==============================] - 2s 15ms/step - loss: 0.0384\n",
      "Epoch 22/50\n",
      "149/149 [==============================] - ETA: 0s - loss: 0.035 - 2s 14ms/step - loss: 0.0358\n",
      "Epoch 23/50\n",
      "149/149 [==============================] - 2s 15ms/step - loss: 0.0368\n",
      "Epoch 24/50\n",
      "149/149 [==============================] - 2s 16ms/step - loss: 0.0380\n",
      "Epoch 25/50\n",
      "149/149 [==============================] - 2s 15ms/step - loss: 0.0360\n",
      "Epoch 26/50\n",
      "149/149 [==============================] - 2s 16ms/step - loss: 0.0367A: 0s \n",
      "Epoch 27/50\n",
      "149/149 [==============================] - 3s 18ms/step - loss: 0.0352\n",
      "Epoch 28/50\n",
      "149/149 [==============================] - 2s 16ms/step - loss: 0.0362\n",
      "Epoch 29/50\n",
      "149/149 [==============================] - 2s 16ms/step - loss: 0.0354\n",
      "Epoch 30/50\n",
      "149/149 [==============================] - 2s 16ms/step - loss: 0.0360: 0s - loss: 0.035\n",
      "Epoch 31/50\n",
      "149/149 [==============================] - 3s 17ms/step - loss: 0.0355\n",
      "Epoch 32/50\n",
      "149/149 [==============================] - 2s 16ms/step - loss: 0.0363: 2s - loss: 0.0 - ETA:  - ETA: 0s -\n",
      "Epoch 33/50\n",
      "149/149 [==============================] - 2s 16ms/step - loss: 0.0345\n",
      "Epoch 34/50\n",
      "149/149 [==============================] - 3s 17ms/step - loss: 0.0339: 0s - \n",
      "Epoch 35/50\n",
      "149/149 [==============================] - 2s 16ms/step - loss: 0.0335\n",
      "Epoch 36/50\n",
      "149/149 [==============================] - 2s 16ms/step - loss: 0.0334: 0s - loss: 0\n",
      "Epoch 37/50\n",
      "149/149 [==============================] - 2s 15ms/step - loss: 0.0330\n",
      "Epoch 38/50\n",
      "149/149 [==============================] - 2s 14ms/step - loss: 0.0321\n",
      "Epoch 39/50\n",
      "149/149 [==============================] - 2s 13ms/step - loss: 0.0310\n",
      "Epoch 40/50\n",
      "149/149 [==============================] - 1s 10ms/step - loss: 0.0302\n",
      "Epoch 41/50\n",
      "149/149 [==============================] - 1s 9ms/step - loss: 0.0301\n",
      "Epoch 42/50\n",
      "149/149 [==============================] - 1s 7ms/step - loss: 0.0307\n",
      "Epoch 43/50\n",
      "149/149 [==============================] - 1s 7ms/step - loss: 0.0298\n",
      "Epoch 44/50\n",
      "149/149 [==============================] - 1s 6ms/step - loss: 0.0302\n",
      "Epoch 45/50\n",
      "149/149 [==============================] - 1s 6ms/step - loss: 0.0284\n",
      "Epoch 46/50\n",
      "149/149 [==============================] - 1s 7ms/step - loss: 0.0283\n",
      "Epoch 47/50\n",
      "149/149 [==============================] - 1s 6ms/step - loss: 0.0277\n",
      "Epoch 48/50\n",
      "149/149 [==============================] - 1s 6ms/step - loss: 0.0282\n",
      "Epoch 49/50\n",
      "149/149 [==============================] - 1s 6ms/step - loss: 0.0277\n",
      "Epoch 50/50\n",
      "149/149 [==============================] - 1s 6ms/step - loss: 0.0269\n"
     ]
    },
    {
     "data": {
      "text/plain": [
       "<keras.callbacks.History at 0x20f902bf400>"
      ]
     },
     "execution_count": 21,
     "metadata": {},
     "output_type": "execute_result"
    }
   ],
   "source": [
    "#The model is run for 50 epochs. The epoch with the lowest loss is selected as the best epoch which the LSTM will automatically take it\n",
    "model.fit(generator,epochs=50)"
   ]
  },
  {
   "cell_type": "code",
   "execution_count": 22,
   "metadata": {},
   "outputs": [
    {
     "data": {
      "text/plain": [
       "[<matplotlib.lines.Line2D at 0x20f9058e0d0>]"
      ]
     },
     "execution_count": 22,
     "metadata": {},
     "output_type": "execute_result"
    },
    {
     "data": {
      "image/png": "[encoded data removed]",
      "text/plain": [
       "<Figure size 432x288 with 1 Axes>"
      ]
     },
     "metadata": {
      "needs_background": "light"
     },
     "output_type": "display_data"
    }
   ],
   "source": [
    "#The loss for each epoch is visualized in a trend line\n",
    "loss_per_epoch = model.history.history['loss']\n",
    "plt.plot(range(len(loss_per_epoch)),loss_per_epoch)"
   ]
  },
  {
   "cell_type": "code",
   "execution_count": 23,
   "metadata": {},
   "outputs": [],
   "source": [
    "last_train_batch = scaled_train[-12:]"
   ]
  },
  {
   "cell_type": "code",
   "execution_count": 24,
   "metadata": {},
   "outputs": [],
   "source": [
    "last_train_batch = last_train_batch.reshape((1, n_input, n_features))"
   ]
  },
  {
   "cell_type": "code",
   "execution_count": 25,
   "metadata": {},
   "outputs": [
    {
     "data": {
      "text/plain": [
       "array([[0.94877136]], dtype=float32)"
      ]
     },
     "execution_count": 25,
     "metadata": {},
     "output_type": "execute_result"
    }
   ],
   "source": [
    "model.predict(last_train_batch)"
   ]
  },
  {
   "cell_type": "code",
   "execution_count": 26,
   "metadata": {},
   "outputs": [
    {
     "data": {
      "text/plain": [
       "array([0.81426026])"
      ]
     },
     "execution_count": 26,
     "metadata": {},
     "output_type": "execute_result"
    }
   ],
   "source": [
    "scaled_test[0]"
   ]
  },
  {
   "cell_type": "code",
   "execution_count": 27,
   "metadata": {},
   "outputs": [],
   "source": [
    "test_predictions = []\n",
    "\n",
    "first_eval_batch = scaled_train[-n_input:]\n",
    "current_batch = first_eval_batch.reshape((1, n_input, n_features))\n",
    "\n",
    "for i in range(len(test)):\n",
    "    \n",
    "    # get the prediction value for the first batch\n",
    "    current_pred = model.predict(current_batch)[0]\n",
    "    \n",
    "    # append the prediction into the array\n",
    "    test_predictions.append(current_pred) \n",
    "    \n",
    "    # use the prediction to update the batch and remove the first value\n",
    "    current_batch = np.append(current_batch[:,1:,:],[[current_pred]],axis=1)"
   ]
  },
  {
   "cell_type": "code",
   "execution_count": 28,
   "metadata": {},
   "outputs": [
    {
     "data": {
      "text/plain": [
       "[array([0.94877136], dtype=float32),\n",
       " array([0.93886364], dtype=float32),\n",
       " array([0.60125303], dtype=float32),\n",
       " array([0.6259949], dtype=float32)]"
      ]
     },
     "execution_count": 28,
     "metadata": {},
     "output_type": "execute_result"
    }
   ],
   "source": [
    "#The predicted values after the model is run\n",
    "test_predictions"
   ]
  },
  {
   "cell_type": "code",
   "execution_count": 29,
   "metadata": {},
   "outputs": [
    {
     "data": {
      "text/html": [
       "<div>\n",
       "<style scoped>\n",
       "    .dataframe tbody tr th:only-of-type {\n",
       "        vertical-align: middle;\n",
       "    }\n",
       "\n",
       "    .dataframe tbody tr th {\n",
       "        vertical-align: top;\n",
       "    }\n",
       "\n",
       "    .dataframe thead th {\n",
       "        text-align: right;\n",
       "    }\n",
       "</style>\n",
       "<table border=\"1\" class=\"dataframe\">\n",
       "  <thead>\n",
       "    <tr style=\"text-align: right;\">\n",
       "      <th></th>\n",
       "      <th>amt</th>\n",
       "    </tr>\n",
       "    <tr>\n",
       "      <th>date</th>\n",
       "      <th></th>\n",
       "    </tr>\n",
       "  </thead>\n",
       "  <tbody>\n",
       "    <tr>\n",
       "      <th>2022-06-05</th>\n",
       "      <td>6018685</td>\n",
       "    </tr>\n",
       "    <tr>\n",
       "      <th>2022-06-12</th>\n",
       "      <td>5822638</td>\n",
       "    </tr>\n",
       "    <tr>\n",
       "      <th>2022-06-19</th>\n",
       "      <td>5499921</td>\n",
       "    </tr>\n",
       "    <tr>\n",
       "      <th>2022-06-26</th>\n",
       "      <td>5629392</td>\n",
       "    </tr>\n",
       "  </tbody>\n",
       "</table>\n",
       "</div>"
      ],
      "text/plain": [
       "                amt\n",
       "date               \n",
       "2022-06-05  6018685\n",
       "2022-06-12  5822638\n",
       "2022-06-19  5499921\n",
       "2022-06-26  5629392"
      ]
     },
     "execution_count": 29,
     "metadata": {},
     "output_type": "execute_result"
    }
   ],
   "source": [
    "test.head()"
   ]
  },
  {
   "cell_type": "code",
   "execution_count": 30,
   "metadata": {},
   "outputs": [],
   "source": [
    "#Moving back the values to their original self \n",
    "true_predictions = scaler.inverse_transform(test_predictions)"
   ]
  },
  {
   "cell_type": "code",
   "execution_count": 31,
   "metadata": {},
   "outputs": [
    {
     "name": "stderr",
     "output_type": "stream",
     "text": [
      "<ipython-input-31-920b79c3c314>:1: SettingWithCopyWarning: \n",
      "A value is trying to be set on a copy of a slice from a DataFrame.\n",
      "Try using .loc[row_indexer,col_indexer] = value instead\n",
      "\n",
      "See the caveats in the documentation: https://pandas.pydata.org/pandas-docs/stable/user_guide/indexing.html#returning-a-view-versus-a-copy\n",
      "  test['Predictions'] = true_predictions\n"
     ]
    }
   ],
   "source": [
    "test['Predictions'] = true_predictions"
   ]
  },
  {
   "cell_type": "code",
   "execution_count": 32,
   "metadata": {},
   "outputs": [
    {
     "data": {
      "text/plain": [
       "<matplotlib.axes._subplots.AxesSubplot at 0x20f93226e80>"
      ]
     },
     "execution_count": 32,
     "metadata": {},
     "output_type": "execute_result"
    },
    {
     "data": {
      "image/png": "[encoded data removed]",
      "text/plain": [
       "<Figure size 1008x360 with 1 Axes>"
      ]
     },
     "metadata": {
      "needs_background": "light"
     },
     "output_type": "display_data"
    }
   ],
   "source": [
    "#Plotting the test and predicted data along the trend chart\n",
    "test.plot(figsize=(14,5))"
   ]
  },
  {
   "cell_type": "code",
   "execution_count": 33,
   "metadata": {},
   "outputs": [
    {
     "name": "stdout",
     "output_type": "stream",
     "text": [
      "263650.22664913815\n"
     ]
    }
   ],
   "source": [
    "#Printing the rmse of test data and predicted data\n",
    "from sklearn.metrics import mean_squared_error\n",
    "from math import sqrt\n",
    "rmse=sqrt(mean_squared_error(test['amt'],test['Predictions']))\n",
    "print(rmse)"
   ]
  },
  {
   "cell_type": "code",
   "execution_count": 34,
   "metadata": {},
   "outputs": [
    {
     "name": "stdout",
     "output_type": "stream",
     "text": [
      "5742659.0\n"
     ]
    }
   ],
   "source": [
    "avg=test['amt'].mean()\n",
    "print(avg)"
   ]
  },
  {
   "cell_type": "code",
   "execution_count": 35,
   "metadata": {},
   "outputs": [
    {
     "name": "stdout",
     "output_type": "stream",
     "text": [
      "95.40891725158784\n"
     ]
    }
   ],
   "source": [
    "#The accuracy of the model\n",
    "accuracy=(rmse/avg)*100\n",
    "accuracy=100-accuracy\n",
    "print(accuracy)"
   ]
  },
  {
   "cell_type": "code",
   "execution_count": 36,
   "metadata": {},
   "outputs": [
    {
     "data": {
      "text/plain": [
       "array([[6286396.78450751],\n",
       "       [6266677.86059356],\n",
       "       [5594745.65832424],\n",
       "       [5643988.39894342]])"
      ]
     },
     "execution_count": 36,
     "metadata": {},
     "output_type": "execute_result"
    }
   ],
   "source": [
    "#the future 4 weeks prediction\n",
    "true_predictions"
   ]
  }
 ],
 "metadata": {
  "kernelspec": {
   "display_name": "Python 3",
   "language": "python",
   "name": "python3"
  },
  "language_info": {
   "codemirror_mode": {
    "name": "ipython",
    "version": 3
   },
   "file_extension": ".py",
   "mimetype": "text/x-python",
   "name": "python",
   "nbconvert_exporter": "python",
   "pygments_lexer": "ipython3",
   "version": "3.8.3"
  }
 },
 "nbformat": 4,
 "nbformat_minor": 4
}
